{
 "cells": [
  {
   "cell_type": "code",
   "execution_count": 1,
   "metadata": {},
   "outputs": [
    {
     "name": "stdout",
     "output_type": "stream",
     "text": [
      "몇 페이지까지 검토하실건가요?(int): 5\n"
     ]
    },
    {
     "data": {
      "application/vnd.jupyter.widget-view+json": {
       "model_id": "ac1100e9734442da91acf66c2a5b1e62",
       "version_major": 2,
       "version_minor": 0
      },
      "text/plain": [
       "HBox(children=(HTML(value=''), FloatProgress(value=0.0, max=5.0), HTML(value='')))"
      ]
     },
     "metadata": {},
     "output_type": "display_data"
    },
    {
     "name": "stdout",
     "output_type": "stream",
     "text": [
      "\n",
      "main page crawled\n"
     ]
    },
    {
     "data": {
      "application/vnd.jupyter.widget-view+json": {
       "model_id": "e44ef44c537d48b99ba7efb673878996",
       "version_major": 2,
       "version_minor": 0
      },
      "text/plain": [
       "HBox(children=(HTML(value=''), FloatProgress(value=0.0, max=75.0), HTML(value='')))"
      ]
     },
     "metadata": {},
     "output_type": "display_data"
    },
    {
     "name": "stdout",
     "output_type": "stream",
     "text": [
      "\n",
      "---77.34369325637817s seconds done---\n",
      "저장 완료\n"
     ]
    }
   ],
   "source": [
    "import pandas as pd\n",
    "import re\n",
    "from bs4 import BeautifulSoup\n",
    "import requests\n",
    "from tqdm.auto import tqdm\n",
    "import time\n",
    "from datetime import date\n",
    "today = date.today()\n",
    "\n",
    "import warnings\n",
    "warnings.filterwarnings('ignore')\n",
    "\n",
    "# 메인 페이지\n",
    "def page_crawler():\n",
    "    link_url = r'https://www.bizinfo.go.kr/web/lay1/bbs/S1T122C128/AS/74/'\n",
    "    \n",
    "    for data in soup.find('tbody').find_all('tr'):\n",
    "        # 지원분야\n",
    "        cat_temp = data.select('td')[1].text.strip()\n",
    "        cat_lst.append(cat_temp)\n",
    "\n",
    "        # 지원사업명\n",
    "        name_temp = data.select('td')[2].find('a').text.strip()\n",
    "        name_lst.append(name_temp)\n",
    "\n",
    "        # 링크\n",
    "        link_temp = data.select('td')[2].find('a')['href']\n",
    "        link_temp = link_url + link_temp\n",
    "        link_lst.append(link_temp)\n",
    "\n",
    "        #신청기간\n",
    "        period_temp = data.select('td')[3].text.strip()\n",
    "        period_lst.append(period_temp)\n",
    "\n",
    "        # 등록일\n",
    "        update_temp = data.select('td')[5].text.strip()\n",
    "        update_lst.append(update_temp)\n",
    "\n",
    "# 세부 페이지\n",
    "def target_page_crawler():\n",
    "    for i in tqdm(range(len(link_lst))):\n",
    "        tareget_response = requests.get(link_lst[i])\n",
    "        target_html = tareget_response.text\n",
    "        soup = BeautifulSoup(target_html, 'html.parser')\n",
    "\n",
    "        # 사업개요_신청 자격\n",
    "        try:\n",
    "            apply_temp = soup.find('div', {'class' : 'view_cont'}).find_all('li')[3].find('div').text.split('☞')[1].strip()\n",
    "            apply_lst.append(apply_temp)\n",
    "        except:\n",
    "            apply_lst.append('NULL')\n",
    "\n",
    "        # 사업개요_지원 사항\n",
    "        try:\n",
    "            benefit_temp = soup.find('div', {'class' : 'view_cont'}).find_all('li')[3].find('div').text.split('☞')[2].strip()\n",
    "            benefit_lst.append(benefit_temp)\n",
    "        except:\n",
    "            benefit_lst.append('NULL')\n",
    "\n",
    "            \n",
    "# 신규목록\n",
    "url_temp = r'https://www.bizinfo.go.kr/web/lay1/bbs/S1T122C128/AS/74/list.do?rows=15&cpage='\n",
    "\n",
    "# 지난목록\n",
    "#url_temp = r'https://www.bizinfo.go.kr/web/lay1/bbs/S1T122C128/AS/74/list.do?hashCode=&rowsSel=6&cat=&article_seq=&pblancId=&schJrsdCodeTy=&schEndAt=Y&orderGb=&sort=&condition=searchPblancNm&keyword=&rows=15&cpage='\n",
    "\n",
    "# 실행 횟수 지정\n",
    "iteration_num = int(input(\"몇 페이지까지 검토하실건가요?(int): \"))\n",
    "\n",
    "# 지원분야\n",
    "cat_lst = []\n",
    "# 지원사업명\n",
    "name_lst = []\n",
    "# 링크\n",
    "link_lst = []\n",
    "# 신청기간\n",
    "period_lst = []\n",
    "# 등록일\n",
    "update_lst = []\n",
    "# 사업개요_신청 자격\n",
    "apply_lst = []\n",
    "# 사업개요_지원 사항\n",
    "benefit_lst = []\n",
    "\n",
    "tik = time.time()\n",
    "\n",
    "for num in tqdm(range(iteration_num)):\n",
    "    url_path = url_temp + str(num + 1)\n",
    "    \n",
    "    response = requests.get(url_path)\n",
    "    html = response.text\n",
    "    soup = BeautifulSoup(html, 'html.parser')\n",
    "    time.sleep(1)\n",
    "    \n",
    "    # 페이지 크롤링\n",
    "    page_crawler()\n",
    "\n",
    "print('main page crawled')\n",
    "\n",
    "# 메인 페이지 종료 이후, 세부 페이지 크롤링\n",
    "target_page_crawler()\n",
    "\n",
    "# 크롤링 종료\n",
    "print(\"---{}s seconds done---\".format(time.time() - tik))\n",
    "\n",
    "# dataframe 저장\n",
    "df = pd.DataFrame({'category': cat_lst,\n",
    "                   'name' : name_lst,\n",
    "                   'period' : period_lst,\n",
    "                   'apply' : apply_lst,\n",
    "                   'benefit' : benefit_lst,\n",
    "                   'link' : link_lst,\n",
    "                   'update' : update_lst})\n",
    "df.index = df.index+1\n",
    "\n",
    "df.to_csv('../[기업마당]/' + \"스타트업 지원 사업 \" + str(today) + ' 검색결과.csv', encoding = 'utf-8-sig')\n",
    "\n",
    "# dataframe 저장 완료\n",
    "print('저장 완료')"
   ]
  },
  {
   "cell_type": "code",
   "execution_count": null,
   "metadata": {},
   "outputs": [],
   "source": []
  }
 ],
 "metadata": {
  "kernelspec": {
   "display_name": "Python 3",
   "language": "python",
   "name": "python3"
  },
  "language_info": {
   "codemirror_mode": {
    "name": "ipython",
    "version": 3
   },
   "file_extension": ".py",
   "mimetype": "text/x-python",
   "name": "python",
   "nbconvert_exporter": "python",
   "pygments_lexer": "ipython3",
   "version": "3.8.5"
  }
 },
 "nbformat": 4,
 "nbformat_minor": 4
}
